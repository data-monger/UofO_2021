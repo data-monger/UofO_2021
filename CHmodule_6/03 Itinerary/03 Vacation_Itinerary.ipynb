{
 "cells": [
  {
   "cell_type": "markdown",
   "metadata": {},
   "source": [
    "## Deliverable 3. Create a Travel Itinerary Map."
   ]
  },
  {
   "cell_type": "code",
   "execution_count": 1,
   "metadata": {},
   "outputs": [],
   "source": [
    "# Dependencies and Setup\n",
    "import pandas as pd\n",
    "import requests\n",
    "import gmaps\n",
    "\n",
    "# Import API key\n",
    "from config import g_api_key\n",
    "\n",
    "# Configure gmaps\n",
    "gmaps.configure(api_key=g_api_key)"
   ]
  },
  {
   "cell_type": "code",
   "execution_count": 2,
   "metadata": {},
   "outputs": [
    {
     "data": {
      "text/html": [
       "<div>\n",
       "<style scoped>\n",
       "    .dataframe tbody tr th:only-of-type {\n",
       "        vertical-align: middle;\n",
       "    }\n",
       "\n",
       "    .dataframe tbody tr th {\n",
       "        vertical-align: top;\n",
       "    }\n",
       "\n",
       "    .dataframe thead th {\n",
       "        text-align: right;\n",
       "    }\n",
       "</style>\n",
       "<table border=\"1\" class=\"dataframe\">\n",
       "  <thead>\n",
       "    <tr style=\"text-align: right;\">\n",
       "      <th></th>\n",
       "      <th>City_ID</th>\n",
       "      <th>City</th>\n",
       "      <th>Country</th>\n",
       "      <th>Max Temp</th>\n",
       "      <th>Current Description</th>\n",
       "      <th>Lat</th>\n",
       "      <th>Lng</th>\n",
       "      <th>Hotel Name</th>\n",
       "    </tr>\n",
       "  </thead>\n",
       "  <tbody>\n",
       "    <tr>\n",
       "      <th>0</th>\n",
       "      <td>0</td>\n",
       "      <td>Belmonte</td>\n",
       "      <td>BR</td>\n",
       "      <td>77.50</td>\n",
       "      <td>moderate rain</td>\n",
       "      <td>-15.8631</td>\n",
       "      <td>-38.8828</td>\n",
       "      <td>Pousada Monte Carmelo O Pão</td>\n",
       "    </tr>\n",
       "    <tr>\n",
       "      <th>1</th>\n",
       "      <td>1</td>\n",
       "      <td>Saint George</td>\n",
       "      <td>US</td>\n",
       "      <td>50.47</td>\n",
       "      <td>clear sky</td>\n",
       "      <td>37.1041</td>\n",
       "      <td>-113.5841</td>\n",
       "      <td>Best Western Plus Abbey Inn</td>\n",
       "    </tr>\n",
       "    <tr>\n",
       "      <th>2</th>\n",
       "      <td>2</td>\n",
       "      <td>Avarua</td>\n",
       "      <td>CK</td>\n",
       "      <td>75.25</td>\n",
       "      <td>scattered clouds</td>\n",
       "      <td>-21.2078</td>\n",
       "      <td>-159.7750</td>\n",
       "      <td>Paradise Inn</td>\n",
       "    </tr>\n",
       "    <tr>\n",
       "      <th>3</th>\n",
       "      <td>3</td>\n",
       "      <td>Kathmandu</td>\n",
       "      <td>NP</td>\n",
       "      <td>46.62</td>\n",
       "      <td>few clouds</td>\n",
       "      <td>27.7167</td>\n",
       "      <td>85.3167</td>\n",
       "      <td>Hotel Shanker Kathmandu</td>\n",
       "    </tr>\n",
       "    <tr>\n",
       "      <th>4</th>\n",
       "      <td>4</td>\n",
       "      <td>Busselton</td>\n",
       "      <td>AU</td>\n",
       "      <td>72.09</td>\n",
       "      <td>clear sky</td>\n",
       "      <td>-33.6500</td>\n",
       "      <td>115.3333</td>\n",
       "      <td>Observatory Guest House</td>\n",
       "    </tr>\n",
       "  </tbody>\n",
       "</table>\n",
       "</div>"
      ],
      "text/plain": [
       "   City_ID          City Country  Max Temp Current Description      Lat  \\\n",
       "0        0      Belmonte      BR     77.50       moderate rain -15.8631   \n",
       "1        1  Saint George      US     50.47           clear sky  37.1041   \n",
       "2        2        Avarua      CK     75.25    scattered clouds -21.2078   \n",
       "3        3     Kathmandu      NP     46.62          few clouds  27.7167   \n",
       "4        4     Busselton      AU     72.09           clear sky -33.6500   \n",
       "\n",
       "        Lng                   Hotel Name  \n",
       "0  -38.8828  Pousada Monte Carmelo O Pão  \n",
       "1 -113.5841  Best Western Plus Abbey Inn  \n",
       "2 -159.7750                 Paradise Inn  \n",
       "3   85.3167      Hotel Shanker Kathmandu  \n",
       "4  115.3333      Observatory Guest House  "
      ]
     },
     "execution_count": 2,
     "metadata": {},
     "output_type": "execute_result"
    }
   ],
   "source": [
    "# 1. Read the WeatherPy_vacation.csv into a DataFrame.\n",
    "hotel_df = pd.read_csv(\"Resources/HotelPy_Database.csv\")\n",
    "hotel_df.head()"
   ]
  },
  {
   "cell_type": "code",
   "execution_count": 3,
   "metadata": {},
   "outputs": [],
   "source": [
    "# 2. Using the template add the city name, the country code, the weather description and maximum temperature for the city.\n",
    "info_box_template = \"\"\"\n",
    "<dl>\n",
    "    <dt>Hotel Name\n",
    "    </dt>\n",
    "        <dd>{Hotel Name}\n",
    "        </dd>\n",
    "    <dt>City\n",
    "    </dt>\n",
    "        <dd>{City}\n",
    "        </dd>\n",
    "    <dt>Country\n",
    "    </dt>\n",
    "        <dd>{Country}\n",
    "        </dd>\n",
    "    <dt>Weather\n",
    "    </dt>\n",
    "        <dd>{Current Description}\n",
    "        </dd>\n",
    "    <dt>Max Temp\n",
    "    </dt>\n",
    "        <dd>{Max Temp} °F\n",
    "        </dd>\n",
    "\n",
    "</dl>\n",
    "\"\"\"\n",
    "\n",
    "# 3a. Get the data from each row and add it to the formatting template and store the data in a list.\n",
    "hotel_info = [info_box_template.format(**row) for index, row in hotel_df.iterrows()]\n",
    "\n",
    "\n",
    "# 3b. Get the latitude and longitude from each row and store in a new DataFrame.\n",
    "locations = hotel_df[[\"Lat\", \"Lng\"]]\n",
    "max_temp = hotel_df[\"Max Temp\"]\n",
    "fig = gmaps.figure(center=(30.0, 31.0), zoom_level=1.5)\n",
    "heat_layer = gmaps.heatmap_layer(locations, weights=max_temp,dissipating=False,\n",
    "             max_intensity=300, point_radius=4)"
   ]
  },
  {
   "cell_type": "code",
   "execution_count": 4,
   "metadata": {},
   "outputs": [
    {
     "data": {
      "application/vnd.jupyter.widget-view+json": {
       "model_id": "c4deb48172704ae6bc22048772d6aa67",
       "version_major": 2,
       "version_minor": 0
      },
      "text/plain": [
       "Figure(layout=FigureLayout(height='420px'))"
      ]
     },
     "metadata": {},
     "output_type": "display_data"
    }
   ],
   "source": [
    "# 4a. Add a marker layer for each city to the map.\n",
    "marker_layer = gmaps.marker_layer(locations, info_box_content=hotel_info)\n",
    "fig.add_layer(heat_layer)\n",
    "fig.add_layer(marker_layer)\n",
    "\n",
    "# 4b. Display the figure\n",
    "fig\n"
   ]
  },
  {
   "cell_type": "code",
   "execution_count": 14,
   "metadata": {},
   "outputs": [],
   "source": [
    "# From the map above pick 4 cities and create a vacation itinerary route to travel between the four cities. \n",
    "# 5. Create DataFrames for each city by filtering the 'vacation_df' using the loc method. \n",
    "# Hint: The starting and ending city should be the same city.\n",
    "# i have only 6 cities to choose from; this is a 1 way trip/tour.\n",
    "\n",
    "vaca_start = hotel_df.loc[(hotel_df['City']=='Makarska')       ] #,('Lat', 'Lng')\n",
    "vaca_end__ = hotel_df.loc[(hotel_df['City']=='Barcelona')      ] #,('Lat', 'Lng')\n",
    "vaca_stop1 = hotel_df.loc[(hotel_df['City']=='Marostica')      ] #,('Lat', 'Lng')\n",
    "vaca_stop2 = hotel_df.loc[(hotel_df['City']=='Millau')         ] #,('Lat', 'Lng') \n",
    "vaca_stop3 = hotel_df.loc[(hotel_df['City']=='Frontignan')     ] #,('Lat', 'Lng') \n",
    "\n"
   ]
  },
  {
   "cell_type": "code",
   "execution_count": 15,
   "metadata": {},
   "outputs": [
    {
     "name": "stdout",
     "output_type": "stream",
     "text": [
      "      City_ID      City Country  Max Temp Current Description      Lat  \\\n",
      "1021     1085  Makarska      HR     48.34           clear sky  43.2969   \n",
      "\n",
      "          Lng           Hotel Name  \n",
      "1021  17.0178  Hotel Park Makarska  \n"
     ]
    }
   ],
   "source": [
    "print (vaca_start)"
   ]
  },
  {
   "cell_type": "code",
   "execution_count": 16,
   "metadata": {},
   "outputs": [
    {
     "name": "stdout",
     "output_type": "stream",
     "text": [
      "[43.2969, 17.0178]\n"
     ]
    }
   ],
   "source": [
    "# 6. Get the latitude-longitude pairs as tuples from each city DataFrame using the to_numpy function and list indexing.\n",
    "\n",
    "start_ = [vaca_start['Lat'].to_numpy()[0], vaca_start['Lng'].to_numpy()[0]]\n",
    "end___ = [vaca_end__['Lat'].to_numpy()[0], vaca_end__['Lng'].to_numpy()[0]]\n",
    "stop1_ = [vaca_stop1['Lat'].to_numpy()[0], vaca_stop1['Lng'].to_numpy()[0]]\n",
    "stop2_ = [vaca_stop2['Lat'].to_numpy()[0], vaca_stop2['Lng'].to_numpy()[0]]\n",
    "stop3_ = [vaca_stop3['Lat'].to_numpy()[0], vaca_stop3['Lng'].to_numpy()[0]]\n",
    "\n",
    "#print(f'Start: {start}, End: {end__}')\n",
    "#print(f'Stop 1: {stop1}, Stop 2: {stop2}, Stop 3: {stop3}')\n",
    "print (start_)"
   ]
  },
  {
   "cell_type": "code",
   "execution_count": 17,
   "metadata": {
    "scrolled": true
   },
   "outputs": [
    {
     "data": {
      "application/vnd.jupyter.widget-view+json": {
       "model_id": "003b08817b1748aea298219945783b53",
       "version_major": 2,
       "version_minor": 0
      },
      "text/plain": [
       "Figure(layout=FigureLayout(height='420px'))"
      ]
     },
     "metadata": {},
     "output_type": "display_data"
    }
   ],
   "source": [
    "# 7. Create a direction layer map using the start and end latitude-longitude pairs,\n",
    "# and stop1, stop2, and stop3 as the waypoints. The travel_mode should be \"DRIVING\", \"BICYCLING\", or \"WALKING\".\n",
    "\n",
    "itinerary = gmaps.directions_layer(\n",
    "    start_, end___, waypoints=[stop1_, stop2_, stop3_],\n",
    "    travel_mode='DRIVING')\n",
    "\n",
    "fig2 = gmaps.figure(center=(30.0, 31.0), zoom_level=1.5)\n",
    "fig2.add_layer(itinerary)\n",
    "fig2"
   ]
  },
  {
   "cell_type": "code",
   "execution_count": 18,
   "metadata": {},
   "outputs": [
    {
     "data": {
      "text/html": [
       "<div>\n",
       "<style scoped>\n",
       "    .dataframe tbody tr th:only-of-type {\n",
       "        vertical-align: middle;\n",
       "    }\n",
       "\n",
       "    .dataframe tbody tr th {\n",
       "        vertical-align: top;\n",
       "    }\n",
       "\n",
       "    .dataframe thead th {\n",
       "        text-align: right;\n",
       "    }\n",
       "</style>\n",
       "<table border=\"1\" class=\"dataframe\">\n",
       "  <thead>\n",
       "    <tr style=\"text-align: right;\">\n",
       "      <th></th>\n",
       "      <th>City_ID</th>\n",
       "      <th>City</th>\n",
       "      <th>Country</th>\n",
       "      <th>Max Temp</th>\n",
       "      <th>Current Description</th>\n",
       "      <th>Lat</th>\n",
       "      <th>Lng</th>\n",
       "      <th>Hotel Name</th>\n",
       "    </tr>\n",
       "  </thead>\n",
       "  <tbody>\n",
       "    <tr>\n",
       "      <th>0</th>\n",
       "      <td>1085</td>\n",
       "      <td>Makarska</td>\n",
       "      <td>HR</td>\n",
       "      <td>48.34</td>\n",
       "      <td>clear sky</td>\n",
       "      <td>43.2969</td>\n",
       "      <td>17.0178</td>\n",
       "      <td>Hotel Park Makarska</td>\n",
       "    </tr>\n",
       "    <tr>\n",
       "      <th>1</th>\n",
       "      <td>275</td>\n",
       "      <td>Marostica</td>\n",
       "      <td>IT</td>\n",
       "      <td>51.24</td>\n",
       "      <td>scattered clouds</td>\n",
       "      <td>45.7468</td>\n",
       "      <td>11.6579</td>\n",
       "      <td>Albergo Due Mori</td>\n",
       "    </tr>\n",
       "    <tr>\n",
       "      <th>2</th>\n",
       "      <td>285</td>\n",
       "      <td>Millau</td>\n",
       "      <td>FR</td>\n",
       "      <td>46.00</td>\n",
       "      <td>clear sky</td>\n",
       "      <td>44.0833</td>\n",
       "      <td>2.9167</td>\n",
       "      <td>La Villa Des Raspes</td>\n",
       "    </tr>\n",
       "    <tr>\n",
       "      <th>3</th>\n",
       "      <td>795</td>\n",
       "      <td>Frontignan</td>\n",
       "      <td>FR</td>\n",
       "      <td>49.95</td>\n",
       "      <td>clear sky</td>\n",
       "      <td>43.4485</td>\n",
       "      <td>3.7540</td>\n",
       "      <td>Domain Selhac: Cottages in Frontignan</td>\n",
       "    </tr>\n",
       "    <tr>\n",
       "      <th>4</th>\n",
       "      <td>725</td>\n",
       "      <td>Barcelona</td>\n",
       "      <td>ES</td>\n",
       "      <td>58.96</td>\n",
       "      <td>clear sky</td>\n",
       "      <td>41.3888</td>\n",
       "      <td>2.1590</td>\n",
       "      <td>Axel Hotel Barcelona</td>\n",
       "    </tr>\n",
       "  </tbody>\n",
       "</table>\n",
       "</div>"
      ],
      "text/plain": [
       "   City_ID        City Country  Max Temp Current Description      Lat  \\\n",
       "0     1085    Makarska      HR     48.34           clear sky  43.2969   \n",
       "1      275   Marostica      IT     51.24    scattered clouds  45.7468   \n",
       "2      285      Millau      FR     46.00           clear sky  44.0833   \n",
       "3      795  Frontignan      FR     49.95           clear sky  43.4485   \n",
       "4      725   Barcelona      ES     58.96           clear sky  41.3888   \n",
       "\n",
       "       Lng                             Hotel Name  \n",
       "0  17.0178                    Hotel Park Makarska  \n",
       "1  11.6579                       Albergo Due Mori  \n",
       "2   2.9167                    La Villa Des Raspes  \n",
       "3   3.7540  Domain Selhac: Cottages in Frontignan  \n",
       "4   2.1590                   Axel Hotel Barcelona  "
      ]
     },
     "execution_count": 18,
     "metadata": {},
     "output_type": "execute_result"
    }
   ],
   "source": [
    "# 8. To create a marker layer map between the four cities.\n",
    "#  Combine the four city DataFrames into one DataFrame using the concat() function.\n",
    "\n",
    "itinerary_df = pd.concat([vaca_start, vaca_stop1, vaca_stop2, vaca_stop3, vaca_end__],ignore_index=True)\n",
    "itinerary_df"
   ]
  },
  {
   "cell_type": "code",
   "execution_count": 19,
   "metadata": {},
   "outputs": [],
   "source": [
    "# 9 Using the template add city name, the country code, the weather description and maximum temperature for the city. \n",
    "info_box_template = \"\"\"\n",
    "<dl>\n",
    "    <dt>Hotel Name\n",
    "    </dt>\n",
    "        <dd>{Hotel Name}\n",
    "        </dd>\n",
    "    <dt>City\n",
    "    </dt>\n",
    "        <dd>{City}\n",
    "        </dd>\n",
    "    <dt>Country\n",
    "    </dt>\n",
    "        <dd>{Country}\n",
    "        </dd>\n",
    "    <dt>Weather\n",
    "    </dt>\n",
    "        <dd>{Current Description}\n",
    "        </dd>\n",
    "    <dt>Max Temp\n",
    "    </dt>\n",
    "        <dd>{Max Temp} °F\n",
    "        </dd>\n",
    "\n",
    "</dl>\n",
    "\"\"\"\n",
    "\n",
    "# 10a Get the data from each row and add it to the formatting template and store the data in a list.\n",
    "hotel_info = [info_box_template.format(**row) for index, row in itinerary_df.iterrows()]\n",
    "\n",
    "# 10b. Get the latitude and longitude from each row and store in a new DataFrame.\n",
    "locations = itinerary_df[[\"Lat\", \"Lng\"]]"
   ]
  },
  {
   "cell_type": "code",
   "execution_count": 20,
   "metadata": {},
   "outputs": [
    {
     "data": {
      "application/vnd.jupyter.widget-view+json": {
       "model_id": "d9fa95a3372a4d05b7cf34353b3113e2",
       "version_major": 2,
       "version_minor": 0
      },
      "text/plain": [
       "Figure(layout=FigureLayout(height='420px'))"
      ]
     },
     "metadata": {},
     "output_type": "display_data"
    }
   ],
   "source": [
    "# 11a. Add a marker layer for each city to the map.\n",
    "marker_layer = gmaps.marker_layer(locations, info_box_content=hotel_info)\n",
    "fig3 = gmaps.figure()\n",
    "fig3.add_layer(marker_layer)\n",
    "\n",
    "# 11b. Display the figure\n",
    "fig3"
   ]
  },
  {
   "cell_type": "code",
   "execution_count": null,
   "metadata": {},
   "outputs": [],
   "source": []
  }
 ],
 "metadata": {
  "interpreter": {
   "hash": "5bb5036ef9ae716ba7317afcf6686bb4f04d649b5126749ef6119c1ca9e0ee89"
  },
  "kernelspec": {
   "display_name": "PythonData",
   "language": "python",
   "name": "python3"
  },
  "language_info": {
   "codemirror_mode": {
    "name": "ipython",
    "version": 3
   },
   "file_extension": ".py",
   "mimetype": "text/x-python",
   "name": "python",
   "nbconvert_exporter": "python",
   "pygments_lexer": "ipython3",
   "version": "3.8.8"
  },
  "latex_envs": {
   "LaTeX_envs_menu_present": true,
   "autoclose": false,
   "autocomplete": true,
   "bibliofile": "biblio.bib",
   "cite_by": "apalike",
   "current_citInitial": 1,
   "eqLabelWithNumbers": true,
   "eqNumInitial": 1,
   "hotkeys": {
    "equation": "Ctrl-E",
    "itemize": "Ctrl-I"
   },
   "labels_anchors": false,
   "latex_user_defs": false,
   "report_style_numbering": false,
   "user_envs_cfg": false
  }
 },
 "nbformat": 4,
 "nbformat_minor": 2
}
