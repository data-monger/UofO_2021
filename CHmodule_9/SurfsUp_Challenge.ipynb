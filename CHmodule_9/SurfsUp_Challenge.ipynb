{
 "cells": [
  {
   "cell_type": "code",
   "execution_count": 1,
   "metadata": {},
   "outputs": [],
   "source": [
    "# Dependencies\n",
    "import numpy as np, pandas as pd, datetime as dt\n",
    "import argparse, time\n",
    "\n",
    "# Flask dependencies\n",
    "from flask import Flask as flsk, jsonify as jsnC\n",
    "\n",
    "# Python SQL toolkit and Object Relational Mapper\n",
    "import sqlalchemy\n",
    "from sqlalchemy.ext.automap import automap_base\n",
    "from sqlalchemy.orm import Session\n",
    "from sqlalchemy import create_engine, func, extract\n"
   ]
  },
  {
   "cell_type": "code",
   "execution_count": null,
   "metadata": {},
   "outputs": [],
   "source": [
    "def mkdate(datestr):\n",
    "    return time.strptime(datestr, '%Y-%m-%d')"
   ]
  },
  {
   "cell_type": "code",
   "execution_count": 2,
   "metadata": {},
   "outputs": [],
   "source": [
    "engine = create_engine(\"sqlite:///hawaii.sqlite\")\n",
    "\n",
    "# reflect an existing database into a new model\n",
    "base = automap_base()\n",
    "\n",
    "# reflect the tables\n",
    "base.prepare(engine, reflect=True)"
   ]
  },
  {
   "cell_type": "code",
   "execution_count": 3,
   "metadata": {},
   "outputs": [],
   "source": [
    "# Save references to each table\n",
    "measure_f = base.classes.measurement\n",
    "station_f = base.classes.station"
   ]
  },
  {
   "cell_type": "code",
   "execution_count": 4,
   "metadata": {},
   "outputs": [],
   "source": [
    "# Create our session (link) from Python to the DB\n",
    "session = Session(engine)"
   ]
  },
  {
   "cell_type": "code",
   "execution_count": 14,
   "metadata": {},
   "outputs": [],
   "source": [
    "# 1. Write a function query that filters the Measurement table to retrieve the temperatures for a given month. \n",
    "\n",
    "def sql_prcp(start, end):\n",
    "\n",
    "    sql_qy = session.query(measure_f.date, measure_f.prcp).\\\n",
    "        filter(measure_f.date >= dt.date(*start)).\\\n",
    "        filter(measure_f.date <= dt.date(*end)).all()\n",
    "\n",
    "    res_ls = {date: prcp for date, prcp in sql_qy}\n",
    "    \n",
    "    res_jn = jsnC(res_ls=res_ls)\n",
    "\n",
    "    res_df = pd.DataFrame(res_ls, columns=['date', 'precip'])\n",
    "    res_df.set_index(res_df['date'], inplace=True)\n",
    "\n",
    "    return res_ls , res_df #, res_jn"
   ]
  },
  {
   "cell_type": "markdown",
   "metadata": {},
   "source": [
    "## D1: Determine the Summary Statistics for June"
   ]
  },
  {
   "cell_type": "code",
   "execution_count": null,
   "metadata": {},
   "outputs": [],
   "source": [
    "    # test code\n",
    "start = '2017-6-1'\n",
    "end = '2017-6-30'\n",
    "\n",
    "#start_dt = dt(dt.start.year, dt.start.month, dt.start.day)\n",
    "#end_dt = dt(dt.end.year, dt.end.month, dt.end.day)\n",
    "\n",
    "#start_dt = dt.date(start.year, sta)\n",
    "\n",
    "start_dt = dt.datetime(*mkdate(start)[:3])\n",
    "end_dt = dt.datetime(*mkdate(end)[:3])\n",
    "\n",
    "\n",
    "print(start_dt)\n",
    "print(end_dt)"
   ]
  },
  {
   "cell_type": "code",
   "execution_count": null,
   "metadata": {},
   "outputs": [],
   "source": [
    "    #test code\n",
    "sql_qy = session.query(measure_f.date, measure_f.prcp).\\\n",
    "    filter(measure_f.date >= start).\\\n",
    "    filter(measure_f.date <= end).all()\n",
    "\n",
    "print (sql_qy)"
   ]
  },
  {
   "cell_type": "code",
   "execution_count": null,
   "metadata": {},
   "outputs": [],
   "source": [
    "    #test code\n",
    "sql_qy = session.query(measure_f.date, measure_f.prcp).\\\n",
    "    filter(measure_f.date >= dt.date(2017,6,1)).\\\n",
    "    filter(measure_f.date <= dt.date(2017,6,30)).all()\n",
    "\n",
    "print (sql_qy)"
   ]
  },
  {
   "cell_type": "code",
   "execution_count": null,
   "metadata": {},
   "outputs": [],
   "source": [
    "    #test code\n",
    "res_ls = {date: prcp for date, prcp in sql_qy}\n",
    "\n",
    "res_df = pd.DataFrame(res_ls, columns=['date', 'precip'])\n",
    "res_df.set_index(res_df['date'], inplace=True)\n",
    "\n",
    "print (res_ls)\n",
    "print (res_df)\n"
   ]
  },
  {
   "cell_type": "code",
   "execution_count": 15,
   "metadata": {},
   "outputs": [
    {
     "name": "stdout",
     "output_type": "stream",
     "text": [
      "{'2017-06-01': 0.01, '2017-06-02': 0.09, '2017-06-03': None, '2017-06-04': 0.82, '2017-06-05': 0.01, '2017-06-06': 0.0, '2017-06-07': 0.01, '2017-06-08': 0.0, '2017-06-09': 0.02, '2017-06-10': None, '2017-06-11': 0.7, '2017-06-12': 0.81, '2017-06-13': 0.65, '2017-06-14': 0.81, '2017-06-15': 1.69, '2017-06-16': 0.1, '2017-06-17': 0.1, '2017-06-18': 0.7, '2017-06-19': 0.4, '2017-06-20': 0.31, '2017-06-21': 0.3, '2017-06-22': 0.28, '2017-06-23': 0.5, '2017-06-24': 0.22, '2017-06-25': 0.5, '2017-06-26': 0.02, '2017-06-27': 0.1, '2017-06-28': 0.02, '2017-06-29': 0.04, '2017-06-30': 0.2}\n",
      "Empty DataFrame\n",
      "Columns: [date, precip]\n",
      "Index: []\n"
     ]
    }
   ],
   "source": [
    "# 2. Write a query that filters the Measurement table to retrieve the temperatures for the month of June. \n",
    "jun_ls, jun_df = sql_prcp([2017,6,1],[2017,6,30])\n",
    "print (jun_ls)\n",
    "print (jun_df)"
   ]
  },
  {
   "cell_type": "code",
   "execution_count": null,
   "metadata": {},
   "outputs": [],
   "source": [
    "#  3. Convert the June temperatures to a list.\n",
    "print(jun_ls)"
   ]
  },
  {
   "cell_type": "code",
   "execution_count": null,
   "metadata": {},
   "outputs": [],
   "source": [
    "# 4. Create a DataFrame from the list of temperatures for the month of June. \n",
    "print(jun_df)"
   ]
  },
  {
   "cell_type": "code",
   "execution_count": null,
   "metadata": {},
   "outputs": [],
   "source": [
    "# 5. Calculate and print out the summary statistics for the June temperature DataFrame.\n",
    "jun_df.describe()"
   ]
  },
  {
   "cell_type": "markdown",
   "metadata": {},
   "source": [
    "## D2: Determine the Summary Statistics for December"
   ]
  },
  {
   "cell_type": "code",
   "execution_count": null,
   "metadata": {},
   "outputs": [],
   "source": [
    "# 6. Write a query that filters the Measurement table to retrieve the temperatures for the month of December.\n",
    "dec_qy = session.query(measure_f.date, measure_f.prcp).\\\n",
    "    filter(measure_f.date >= dt.date(2017,12,1)).\\\n",
    "    filter(measure_f.date <= dt.date(2017,12,31)).all()\n"
   ]
  },
  {
   "cell_type": "code",
   "execution_count": null,
   "metadata": {},
   "outputs": [],
   "source": [
    "# 7. Convert the December temperatures to a list.\n"
   ]
  },
  {
   "cell_type": "code",
   "execution_count": null,
   "metadata": {},
   "outputs": [],
   "source": [
    "# 8. Create a DataFrame from the list of temperatures for the month of December. \n"
   ]
  },
  {
   "cell_type": "code",
   "execution_count": null,
   "metadata": {},
   "outputs": [],
   "source": [
    "# 9. Calculate and print out the summary statistics for the Decemeber temperature DataFrame.\n"
   ]
  }
 ],
 "metadata": {
  "interpreter": {
   "hash": "5bb5036ef9ae716ba7317afcf6686bb4f04d649b5126749ef6119c1ca9e0ee89"
  },
  "kernelspec": {
   "display_name": "PythonData",
   "language": "python",
   "name": "python3"
  },
  "language_info": {
   "codemirror_mode": {
    "name": "ipython",
    "version": 3
   },
   "file_extension": ".py",
   "mimetype": "text/x-python",
   "name": "python",
   "nbconvert_exporter": "python",
   "pygments_lexer": "ipython3",
   "version": "3.7.11"
  }
 },
 "nbformat": 4,
 "nbformat_minor": 2
}
